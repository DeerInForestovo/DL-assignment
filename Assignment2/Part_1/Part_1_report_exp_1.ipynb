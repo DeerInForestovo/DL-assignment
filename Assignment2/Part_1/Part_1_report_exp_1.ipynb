{
 "cells": [
  {
   "cell_type": "markdown",
   "source": [
    "# Part 1\n",
    "\n",
    "## Additional experiment\n",
    "\n",
    "In this version, all auxiliary units are removed."
   ],
   "metadata": {
    "collapsed": false
   },
   "id": "523afd24343f2a02"
  },
  {
   "cell_type": "code",
   "execution_count": 8,
   "outputs": [
    {
     "name": "stdout",
     "output_type": "stream",
     "text": [
      "Files already downloaded and verified\n",
      "Files already downloaded and verified\n"
     ]
    }
   ],
   "source": [
    "import torch\n",
    "import torch.nn as nn\n",
    "import torchvision.transforms as transforms\n",
    "from torchvision.datasets import CIFAR10\n",
    "from torch.utils.data import DataLoader, random_split\n",
    "\n",
    "\n",
    "class MLPnet(nn.Module):  # Changed here\n",
    "    def __init__(self, input_size=3 * 32 * 32, num_class=10):\n",
    "        super(MLPnet, self).__init__()\n",
    "        self.model = nn.Sequential(\n",
    "            nn.Flatten(),\n",
    "            nn.Linear(input_size, 512),\n",
    "            nn.ReLU(),\n",
    "            nn.Linear(512, 512),\n",
    "            nn.ReLU(),\n",
    "            nn.Linear(512, 256),\n",
    "            nn.ReLU(),\n",
    "            nn.Linear(256, 256),\n",
    "            nn.ReLU(),\n",
    "            nn.Linear(256, 128),\n",
    "            nn.ReLU(),\n",
    "        )\n",
    "        self.classifier = nn.Linear(128, num_class)\n",
    "\n",
    "    def forward(self, x):\n",
    "        feature = self.model(x)\n",
    "        out = self.classifier(feature)\n",
    "        return out\n",
    "\n",
    "\n",
    "transform = transforms.Compose([\n",
    "    transforms.RandomHorizontalFlip(),\n",
    "    transforms.RandomCrop(32, padding=4),\n",
    "    transforms.ToTensor(),\n",
    "    transforms.Normalize((0.4914, 0.4822, 0.4465), (0.2470, 0.2435, 0.2616))\n",
    "])\n",
    "\n",
    "train_dataset = CIFAR10(root='./data', train=True, download=True, transform=transform)\n",
    "test_dataset = CIFAR10(root='./data', train=False, download=True, transform=transform)\n",
    "\n",
    "train_size = int(0.8 * len(train_dataset))\n",
    "val_size = len(train_dataset) - train_size\n",
    "train_dataset, val_dataset = random_split(train_dataset, [train_size, val_size])\n",
    "\n",
    "train_loader = DataLoader(train_dataset, batch_size=64, shuffle=True)\n",
    "val_loader = DataLoader(val_dataset, batch_size=64, shuffle=False)\n",
    "test_loader = DataLoader(test_dataset, batch_size=64, shuffle=False)"
   ],
   "metadata": {
    "collapsed": false,
    "ExecuteTime": {
     "end_time": "2024-11-16T08:16:17.771554300Z",
     "start_time": "2024-11-16T08:16:16.527555400Z"
    }
   },
   "id": "2ba7b4f2e9d45aea"
  },
  {
   "cell_type": "code",
   "execution_count": 9,
   "outputs": [],
   "source": [
    "model = MLPnet() \n",
    "criterion = nn.CrossEntropyLoss()\n",
    "optimizer = torch.optim.Adam(model.parameters(), lr=0.001, weight_decay=1e-4)"
   ],
   "metadata": {
    "collapsed": false,
    "ExecuteTime": {
     "end_time": "2024-11-16T08:16:17.787556500Z",
     "start_time": "2024-11-16T08:16:17.772553700Z"
    }
   },
   "id": "164f30a54563dd42"
  },
  {
   "cell_type": "code",
   "execution_count": 10,
   "outputs": [
    {
     "name": "stdout",
     "output_type": "stream",
     "text": [
      "Epoch [1/20], Loss: 1.8945, Validation Accuracy: 0.3611\n",
      "Epoch [2/20], Loss: 1.7336, Validation Accuracy: 0.3903\n",
      "Epoch [3/20], Loss: 1.6617, Validation Accuracy: 0.4035\n",
      "Epoch [4/20], Loss: 1.6085, Validation Accuracy: 0.4103\n",
      "Epoch [5/20], Loss: 1.5746, Validation Accuracy: 0.4309\n",
      "Epoch [6/20], Loss: 1.5546, Validation Accuracy: 0.4419\n",
      "Epoch [7/20], Loss: 1.5255, Validation Accuracy: 0.4523\n",
      "Epoch [8/20], Loss: 1.5007, Validation Accuracy: 0.4535\n",
      "Epoch [9/20], Loss: 1.4861, Validation Accuracy: 0.4559\n",
      "Epoch [10/20], Loss: 1.4765, Validation Accuracy: 0.4751\n",
      "Epoch [11/20], Loss: 1.4624, Validation Accuracy: 0.4685\n",
      "Epoch [12/20], Loss: 1.4471, Validation Accuracy: 0.4714\n",
      "Epoch [13/20], Loss: 1.4347, Validation Accuracy: 0.4766\n",
      "Epoch [14/20], Loss: 1.4284, Validation Accuracy: 0.4759\n",
      "Epoch [15/20], Loss: 1.4177, Validation Accuracy: 0.4862\n",
      "Epoch [16/20], Loss: 1.4118, Validation Accuracy: 0.4913\n",
      "Epoch [17/20], Loss: 1.3996, Validation Accuracy: 0.4862\n",
      "Epoch [18/20], Loss: 1.3906, Validation Accuracy: 0.4883\n",
      "Epoch [19/20], Loss: 1.3868, Validation Accuracy: 0.4906\n",
      "Epoch [20/20], Loss: 1.3818, Validation Accuracy: 0.4891\n",
      "Test Accuracy: 0.4890\n"
     ]
    }
   ],
   "source": [
    "def train(model, train_loader, val_loader, criterion, optimizer, num_epochs=20):\n",
    "    device = torch.device(\"cuda\" if torch.cuda.is_available() else \"cpu\")\n",
    "    model = model.to(device)\n",
    "    for epoch in range(num_epochs):\n",
    "        model.train()\n",
    "        running_loss = 0.0\n",
    "        for inputs, labels in train_loader:\n",
    "            inputs, labels = inputs.to(device), labels.to(device)\n",
    "            optimizer.zero_grad()\n",
    "            outputs = model(inputs)\n",
    "            loss = criterion(outputs, labels)\n",
    "            loss.backward()\n",
    "            optimizer.step()\n",
    "            running_loss += loss.item() * inputs.size(0)\n",
    "        \n",
    "        epoch_loss = running_loss / len(train_loader.dataset)\n",
    "        \n",
    "        model.eval()\n",
    "        correct = 0\n",
    "        total = 0\n",
    "        with torch.no_grad():\n",
    "            for inputs, labels in val_loader:\n",
    "                inputs, labels = inputs.to(device), labels.to(device)\n",
    "                outputs = model(inputs)\n",
    "                _, predicted = torch.max(outputs, 1)\n",
    "                total += labels.size(0)\n",
    "                correct += (predicted == labels).sum().item()\n",
    "        \n",
    "        val_accuracy = correct / total\n",
    "        print(f'Epoch [{epoch+1}/{num_epochs}], Loss: {epoch_loss:.4f}, Validation Accuracy: {val_accuracy:.4f}')\n",
    "\n",
    "\n",
    "def test(model, test_loader):\n",
    "    device = torch.device(\"cuda\" if torch.cuda.is_available() else \"cpu\")\n",
    "    model = model.to(device)\n",
    "    model.eval()\n",
    "    correct = 0\n",
    "    total = 0\n",
    "    with torch.no_grad():\n",
    "        for inputs, labels in test_loader:\n",
    "            inputs, labels = inputs.to(device), labels.to(device)\n",
    "            outputs = model(inputs)\n",
    "            _, predicted = torch.max(outputs, 1)\n",
    "            total += labels.size(0)\n",
    "            correct += (predicted == labels).sum().item()\n",
    "    test_accuracy = correct / total\n",
    "    print(f'Test Accuracy: {test_accuracy:.4f}')\n",
    "\n",
    "\n",
    "train(model, train_loader, val_loader, criterion, optimizer, num_epochs=20)\n",
    "test(model, test_loader)"
   ],
   "metadata": {
    "collapsed": false,
    "ExecuteTime": {
     "end_time": "2024-11-16T08:22:01.334806900Z",
     "start_time": "2024-11-16T08:16:17.791554200Z"
    }
   },
   "id": "31be6bd1905c0a35"
  },
  {
   "cell_type": "code",
   "execution_count": 11,
   "outputs": [
    {
     "name": "stdout",
     "output_type": "stream",
     "text": [
      "Files already downloaded and verified\n",
      "Files already downloaded and verified\n",
      "Epoch [1/20], Loss: 2.0129, Validation Accuracy: 0.2807\n",
      "Epoch [2/20], Loss: 1.8478, Validation Accuracy: 0.3529\n",
      "Epoch [3/20], Loss: 1.7588, Validation Accuracy: 0.3794\n",
      "Epoch [4/20], Loss: 1.6737, Validation Accuracy: 0.3864\n",
      "Epoch [5/20], Loss: 1.6180, Validation Accuracy: 0.4179\n",
      "Epoch [6/20], Loss: 1.5715, Validation Accuracy: 0.4452\n",
      "Epoch [7/20], Loss: 1.5302, Validation Accuracy: 0.4377\n",
      "Epoch [8/20], Loss: 1.4982, Validation Accuracy: 0.4382\n",
      "Epoch [9/20], Loss: 1.4681, Validation Accuracy: 0.4458\n",
      "Epoch [10/20], Loss: 1.4446, Validation Accuracy: 0.4582\n",
      "Epoch [11/20], Loss: 1.4090, Validation Accuracy: 0.4786\n",
      "Epoch [12/20], Loss: 1.3938, Validation Accuracy: 0.4844\n",
      "Epoch [13/20], Loss: 1.3784, Validation Accuracy: 0.4748\n",
      "Epoch [14/20], Loss: 1.3455, Validation Accuracy: 0.4697\n",
      "Epoch [15/20], Loss: 1.3297, Validation Accuracy: 0.4814\n",
      "Epoch [16/20], Loss: 1.3069, Validation Accuracy: 0.4781\n",
      "Epoch [17/20], Loss: 1.2933, Validation Accuracy: 0.5036\n",
      "Epoch [18/20], Loss: 1.2835, Validation Accuracy: 0.4793\n",
      "Epoch [19/20], Loss: 1.2594, Validation Accuracy: 0.4893\n",
      "Epoch [20/20], Loss: 1.2430, Validation Accuracy: 0.5005\n",
      "Test Accuracy: 0.5049\n"
     ]
    }
   ],
   "source": [
    "transform = transforms.Compose([\n",
    "    transforms.ToTensor(),\n",
    "])\n",
    "\n",
    "train_dataset = CIFAR10(root='./data', train=True, download=True, transform=transform)\n",
    "test_dataset = CIFAR10(root='./data', train=False, download=True, transform=transform)\n",
    "\n",
    "train_size = int(0.8 * len(train_dataset))\n",
    "val_size = len(train_dataset) - train_size\n",
    "train_dataset, val_dataset = random_split(train_dataset, [train_size, val_size])\n",
    "\n",
    "train_loader = DataLoader(train_dataset, batch_size=64, shuffle=True)\n",
    "val_loader = DataLoader(val_dataset, batch_size=64, shuffle=False)\n",
    "test_loader = DataLoader(test_dataset, batch_size=64, shuffle=False)\n",
    "\n",
    "model = MLPnet() \n",
    "criterion = nn.CrossEntropyLoss()\n",
    "optimizer = torch.optim.Adam(model.parameters(), lr=0.001, weight_decay=1e-4)\n",
    "\n",
    "train(model, train_loader, val_loader, criterion, optimizer, num_epochs=20)\n",
    "test(model, test_loader)"
   ],
   "metadata": {
    "collapsed": false,
    "ExecuteTime": {
     "end_time": "2024-11-16T08:24:26.345561400Z",
     "start_time": "2024-11-16T08:22:01.337805900Z"
    }
   },
   "id": "6f6033d7cfad52a5"
  },
  {
   "cell_type": "code",
   "execution_count": 12,
   "outputs": [
    {
     "name": "stdout",
     "output_type": "stream",
     "text": [
      "Epoch [1/20], Loss: 1.7449, Validation Accuracy: 0.4255\n",
      "Epoch [2/20], Loss: 1.5250, Validation Accuracy: 0.4490\n",
      "Epoch [3/20], Loss: 1.4273, Validation Accuracy: 0.4511\n",
      "Epoch [4/20], Loss: 1.3558, Validation Accuracy: 0.4306\n",
      "Epoch [5/20], Loss: 1.3004, Validation Accuracy: 0.4420\n",
      "Epoch [6/20], Loss: 1.2495, Validation Accuracy: 0.5079\n",
      "Epoch [7/20], Loss: 1.2026, Validation Accuracy: 0.4666\n",
      "Epoch [8/20], Loss: 1.1640, Validation Accuracy: 0.4627\n",
      "Epoch [9/20], Loss: 1.1201, Validation Accuracy: 0.4944\n",
      "Epoch [10/20], Loss: 1.0886, Validation Accuracy: 0.5023\n",
      "Epoch [11/20], Loss: 1.0444, Validation Accuracy: 0.5172\n",
      "Epoch [12/20], Loss: 1.0082, Validation Accuracy: 0.5053\n",
      "Epoch [13/20], Loss: 0.9673, Validation Accuracy: 0.5283\n",
      "Epoch [14/20], Loss: 0.9263, Validation Accuracy: 0.4993\n",
      "Epoch [15/20], Loss: 0.8920, Validation Accuracy: 0.4749\n",
      "Epoch [16/20], Loss: 0.8557, Validation Accuracy: 0.5029\n",
      "Epoch [17/20], Loss: 0.8245, Validation Accuracy: 0.5114\n",
      "Epoch [18/20], Loss: 0.7918, Validation Accuracy: 0.4932\n",
      "Epoch [19/20], Loss: 0.7641, Validation Accuracy: 0.5225\n",
      "Epoch [20/20], Loss: 0.7201, Validation Accuracy: 0.5067\n",
      "Test Accuracy: 0.5044\n"
     ]
    }
   ],
   "source": [
    "from MLPnet import MLPnet as Mlpnet\n",
    "model = Mlpnet() \n",
    "criterion = nn.CrossEntropyLoss()\n",
    "optimizer = torch.optim.Adam(model.parameters(), lr=0.001, weight_decay=1e-4)\n",
    "\n",
    "train(model, train_loader, val_loader, criterion, optimizer, num_epochs=20)\n",
    "test(model, test_loader)"
   ],
   "metadata": {
    "collapsed": false,
    "ExecuteTime": {
     "end_time": "2024-11-16T08:27:01.784865600Z",
     "start_time": "2024-11-16T08:24:26.349558700Z"
    }
   },
   "id": "f6893b9b0668d58a"
  }
 ],
 "metadata": {
  "kernelspec": {
   "display_name": "Python 3",
   "language": "python",
   "name": "python3"
  },
  "language_info": {
   "codemirror_mode": {
    "name": "ipython",
    "version": 2
   },
   "file_extension": ".py",
   "mimetype": "text/x-python",
   "name": "python",
   "nbconvert_exporter": "python",
   "pygments_lexer": "ipython2",
   "version": "2.7.6"
  }
 },
 "nbformat": 4,
 "nbformat_minor": 5
}
